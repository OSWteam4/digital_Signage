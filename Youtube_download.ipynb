{
 "cells": [
  {
   "cell_type": "code",
   "execution_count": null,
   "id": "a148f62e",
   "metadata": {},
   "outputs": [],
   "source": [
    "pip install --force-reinstall https://github.com/yt-dlp/yt-dlp/archive/master.tar.gz"
   ]
  },
  {
   "cell_type": "code",
   "execution_count": 1,
   "id": "2d42bebd",
   "metadata": {},
   "outputs": [
    {
     "name": "stdout",
     "output_type": "stream",
     "text": [
      "[youtube] Extracting URL: https://www.youtube.com/watch?v=07_GkE54bUU\n",
      "[youtube] 07_GkE54bUU: Downloading webpage\n",
      "[youtube] 07_GkE54bUU: Downloading android player API JSON\n",
      "[info] 07_GkE54bUU: Downloading 1 format(s): 18\n",
      "[download] Destination: 임시\n",
      "[download] 100% of 1005.14KiB in 00:00:00 at 1.06MiB/s   Done downloading, now converting ...\n",
      "\n"
     ]
    }
   ],
   "source": [
    "from __future__ import unicode_literals\n",
    "import yt_dlp as youtube_dl\n",
    "\n",
    "def my_hook(d):\n",
    "    if d['status'] == 'finished':\n",
    "        print('Done downloading, now converting ...')\n",
    "\n",
    "ydl_opts = {\n",
    "    'download_archive': 'archive.txt',\n",
    "    'ignoreerrors': True,\n",
    "    'nooverwrites': True,\n",
    "    'format': 'bestvideo[ext=mkv]+bestaudio/best[ext=mkv]/best',       \n",
    "    'outtmpl': '임시',        \n",
    "    'noplaylist' : False,       \n",
    "    'progress_hooks': [my_hook],  \n",
    "}\n",
    "\n",
    "with youtube_dl.YoutubeDL(ydl_opts) as ydl:\n",
    "    ydl.download(['https://www.youtube.com/watch?v=07_GkE54bUU'])"
   ]
  },
  {
   "cell_type": "code",
   "execution_count": null,
   "id": "c7b125fa",
   "metadata": {},
   "outputs": [],
   "source": []
  }
 ],
 "metadata": {
  "kernelspec": {
   "display_name": "Python 3.10.5 64-bit",
   "language": "python",
   "name": "python3"
  },
  "language_info": {
   "codemirror_mode": {
    "name": "ipython",
    "version": 3
   },
   "file_extension": ".py",
   "mimetype": "text/x-python",
   "name": "python",
   "nbconvert_exporter": "python",
   "pygments_lexer": "ipython3",
   "version": "3.10.5"
  },
  "vscode": {
   "interpreter": {
    "hash": "26de051ba29f2982a8de78e945f0abaf191376122a1563185a90213a26c5da77"
   }
  }
 },
 "nbformat": 4,
 "nbformat_minor": 5
}
